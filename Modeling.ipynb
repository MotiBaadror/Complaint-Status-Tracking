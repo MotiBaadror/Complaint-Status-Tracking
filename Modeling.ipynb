{
 "cells": [
  {
   "cell_type": "code",
   "execution_count": 2,
   "metadata": {},
   "outputs": [],
   "source": [
    "import pandas as pd\n",
    "import matplotlib.pyplot as plt\n",
    "import numpy as np\n",
    "%matplotlib inline "
   ]
  },
  {
   "cell_type": "code",
   "execution_count": 3,
   "metadata": {},
   "outputs": [],
   "source": [
    "from sklearn.datasets import make_classification\n",
    "from sklearn.linear_model import LogisticRegression\n",
    "from sklearn.ensemble import RandomForestClassifier\n",
    "from sklearn.feature_selection import SelectFromModel\n",
    "from sklearn.model_selection import cross_val_score\n",
    "from sklearn.svm import SVC, LinearSVC\n",
    "from sklearn.ensemble import RandomForestClassifier\n",
    "from sklearn.neighbors import KNeighborsClassifier\n",
    "from sklearn.naive_bayes import GaussianNB\n",
    "from sklearn.linear_model import Perceptron\n",
    "from sklearn.linear_model import SGDClassifier\n",
    "from sklearn.tree import DecisionTreeClassifier"
   ]
  },
  {
   "cell_type": "code",
   "execution_count": 4,
   "metadata": {},
   "outputs": [
    {
     "data": {
      "text/html": [
       "<div>\n",
       "<style scoped>\n",
       "    .dataframe tbody tr th:only-of-type {\n",
       "        vertical-align: middle;\n",
       "    }\n",
       "\n",
       "    .dataframe tbody tr th {\n",
       "        vertical-align: top;\n",
       "    }\n",
       "\n",
       "    .dataframe thead th {\n",
       "        text-align: right;\n",
       "    }\n",
       "</style>\n",
       "<table border=\"1\" class=\"dataframe\">\n",
       "  <thead>\n",
       "    <tr style=\"text-align: right;\">\n",
       "      <th></th>\n",
       "      <th>Transaction-Type</th>\n",
       "      <th>Complaint-reason</th>\n",
       "      <th>Company-response</th>\n",
       "      <th>Complaint-Status</th>\n",
       "      <th>Consumer-disputes</th>\n",
       "    </tr>\n",
       "    <tr>\n",
       "      <th>Complaint-ID</th>\n",
       "      <th></th>\n",
       "      <th></th>\n",
       "      <th></th>\n",
       "      <th></th>\n",
       "      <th></th>\n",
       "    </tr>\n",
       "  </thead>\n",
       "  <tbody>\n",
       "    <tr>\n",
       "      <th>Tr-1</th>\n",
       "      <td>1</td>\n",
       "      <td>1</td>\n",
       "      <td>4</td>\n",
       "      <td>1</td>\n",
       "      <td>1.0</td>\n",
       "    </tr>\n",
       "    <tr>\n",
       "      <th>Tr-2</th>\n",
       "      <td>2</td>\n",
       "      <td>2</td>\n",
       "      <td>2</td>\n",
       "      <td>2</td>\n",
       "      <td>0.0</td>\n",
       "    </tr>\n",
       "    <tr>\n",
       "      <th>Tr-3</th>\n",
       "      <td>3</td>\n",
       "      <td>3</td>\n",
       "      <td>4</td>\n",
       "      <td>1</td>\n",
       "      <td>0.0</td>\n",
       "    </tr>\n",
       "    <tr>\n",
       "      <th>Tr-4</th>\n",
       "      <td>4</td>\n",
       "      <td>4</td>\n",
       "      <td>3</td>\n",
       "      <td>1</td>\n",
       "      <td>0.0</td>\n",
       "    </tr>\n",
       "    <tr>\n",
       "      <th>Tr-5</th>\n",
       "      <td>5</td>\n",
       "      <td>5</td>\n",
       "      <td>4</td>\n",
       "      <td>1</td>\n",
       "      <td>0.0</td>\n",
       "    </tr>\n",
       "    <tr>\n",
       "      <th>Tr-6</th>\n",
       "      <td>1</td>\n",
       "      <td>6</td>\n",
       "      <td>4</td>\n",
       "      <td>1</td>\n",
       "      <td>1.0</td>\n",
       "    </tr>\n",
       "    <tr>\n",
       "      <th>Tr-7</th>\n",
       "      <td>2</td>\n",
       "      <td>2</td>\n",
       "      <td>4</td>\n",
       "      <td>1</td>\n",
       "      <td>0.0</td>\n",
       "    </tr>\n",
       "  </tbody>\n",
       "</table>\n",
       "</div>"
      ],
      "text/plain": [
       "              Transaction-Type  Complaint-reason  Company-response  \\\n",
       "Complaint-ID                                                         \n",
       "Tr-1                         1                 1                 4   \n",
       "Tr-2                         2                 2                 2   \n",
       "Tr-3                         3                 3                 4   \n",
       "Tr-4                         4                 4                 3   \n",
       "Tr-5                         5                 5                 4   \n",
       "Tr-6                         1                 6                 4   \n",
       "Tr-7                         2                 2                 4   \n",
       "\n",
       "              Complaint-Status  Consumer-disputes  \n",
       "Complaint-ID                                       \n",
       "Tr-1                         1                1.0  \n",
       "Tr-2                         2                0.0  \n",
       "Tr-3                         1                0.0  \n",
       "Tr-4                         1                0.0  \n",
       "Tr-5                         1                0.0  \n",
       "Tr-6                         1                1.0  \n",
       "Tr-7                         1                0.0  "
      ]
     },
     "execution_count": 4,
     "metadata": {},
     "output_type": "execute_result"
    }
   ],
   "source": [
    "data=pd.read_csv('Training_reason_replace.csv',index_col='Complaint-ID')\n",
    "data.head(7)"
   ]
  },
  {
   "cell_type": "code",
   "execution_count": 5,
   "metadata": {},
   "outputs": [
    {
     "data": {
      "text/plain": [
       "Transaction-Type       int64\n",
       "Complaint-reason       int64\n",
       "Company-response       int64\n",
       "Complaint-Status       int64\n",
       "Consumer-disputes    float64\n",
       "dtype: object"
      ]
     },
     "execution_count": 5,
     "metadata": {},
     "output_type": "execute_result"
    }
   ],
   "source": [
    "data.dtypes"
   ]
  },
  {
   "cell_type": "code",
   "execution_count": 6,
   "metadata": {},
   "outputs": [
    {
     "data": {
      "text/plain": [
       "Index(['Transaction-Type', 'Complaint-reason', 'Company-response',\n",
       "       'Complaint-Status', 'Consumer-disputes'],\n",
       "      dtype='object')"
      ]
     },
     "execution_count": 6,
     "metadata": {},
     "output_type": "execute_result"
    }
   ],
   "source": [
    "data.columns"
   ]
  },
  {
   "cell_type": "code",
   "execution_count": 7,
   "metadata": {},
   "outputs": [],
   "source": [
    "Y=data['Complaint-Status']\n",
    "X=data[['Transaction-Type', 'Complaint-reason', 'Company-response','Consumer-disputes']]"
   ]
  },
  {
   "cell_type": "code",
   "execution_count": 8,
   "metadata": {},
   "outputs": [
    {
     "data": {
      "text/html": [
       "<div>\n",
       "<style scoped>\n",
       "    .dataframe tbody tr th:only-of-type {\n",
       "        vertical-align: middle;\n",
       "    }\n",
       "\n",
       "    .dataframe tbody tr th {\n",
       "        vertical-align: top;\n",
       "    }\n",
       "\n",
       "    .dataframe thead th {\n",
       "        text-align: right;\n",
       "    }\n",
       "</style>\n",
       "<table border=\"1\" class=\"dataframe\">\n",
       "  <thead>\n",
       "    <tr style=\"text-align: right;\">\n",
       "      <th></th>\n",
       "      <th>Transaction-Type</th>\n",
       "      <th>Complaint-reason</th>\n",
       "      <th>Company-response</th>\n",
       "      <th>Consumer-disputes</th>\n",
       "    </tr>\n",
       "    <tr>\n",
       "      <th>Complaint-ID</th>\n",
       "      <th></th>\n",
       "      <th></th>\n",
       "      <th></th>\n",
       "      <th></th>\n",
       "    </tr>\n",
       "  </thead>\n",
       "  <tbody>\n",
       "    <tr>\n",
       "      <th>Tr-1</th>\n",
       "      <td>1</td>\n",
       "      <td>1</td>\n",
       "      <td>4</td>\n",
       "      <td>1.0</td>\n",
       "    </tr>\n",
       "    <tr>\n",
       "      <th>Tr-2</th>\n",
       "      <td>2</td>\n",
       "      <td>2</td>\n",
       "      <td>2</td>\n",
       "      <td>0.0</td>\n",
       "    </tr>\n",
       "    <tr>\n",
       "      <th>Tr-3</th>\n",
       "      <td>3</td>\n",
       "      <td>3</td>\n",
       "      <td>4</td>\n",
       "      <td>0.0</td>\n",
       "    </tr>\n",
       "    <tr>\n",
       "      <th>Tr-4</th>\n",
       "      <td>4</td>\n",
       "      <td>4</td>\n",
       "      <td>3</td>\n",
       "      <td>0.0</td>\n",
       "    </tr>\n",
       "    <tr>\n",
       "      <th>Tr-5</th>\n",
       "      <td>5</td>\n",
       "      <td>5</td>\n",
       "      <td>4</td>\n",
       "      <td>0.0</td>\n",
       "    </tr>\n",
       "  </tbody>\n",
       "</table>\n",
       "</div>"
      ],
      "text/plain": [
       "              Transaction-Type  Complaint-reason  Company-response  \\\n",
       "Complaint-ID                                                         \n",
       "Tr-1                         1                 1                 4   \n",
       "Tr-2                         2                 2                 2   \n",
       "Tr-3                         3                 3                 4   \n",
       "Tr-4                         4                 4                 3   \n",
       "Tr-5                         5                 5                 4   \n",
       "\n",
       "              Consumer-disputes  \n",
       "Complaint-ID                     \n",
       "Tr-1                        1.0  \n",
       "Tr-2                        0.0  \n",
       "Tr-3                        0.0  \n",
       "Tr-4                        0.0  \n",
       "Tr-5                        0.0  "
      ]
     },
     "execution_count": 8,
     "metadata": {},
     "output_type": "execute_result"
    }
   ],
   "source": [
    "X.head()"
   ]
  },
  {
   "cell_type": "code",
   "execution_count": 9,
   "metadata": {},
   "outputs": [
    {
     "data": {
      "text/plain": [
       "((28988, 4), (28988,), (14278, 4))"
      ]
     },
     "execution_count": 9,
     "metadata": {},
     "output_type": "execute_result"
    }
   ],
   "source": [
    "from sklearn.model_selection import cross_val_score\n",
    "from sklearn.model_selection import train_test_split\n",
    "X_train, X_test, Y_train, Y_test = train_test_split(\n",
    "   X ,Y , test_size=0.33, random_state=42)\n",
    "X_train.shape, Y_train.shape, X_test.shape"
   ]
  },
  {
   "cell_type": "code",
   "execution_count": 10,
   "metadata": {},
   "outputs": [
    {
     "name": "stdout",
     "output_type": "stream",
     "text": [
      "knn  77.78 -4.752442126767648\n",
      "random foreset 79.8\n",
      "logistic  79.25 -0.7042468787054484\n",
      "neural net  79.25 -0.7151230858559124\n"
     ]
    }
   ],
   "source": [
    "from sklearn.neighbors import KNeighborsClassifier\n",
    "knn = KNeighborsClassifier(n_neighbors = 3)\n",
    "knn.fit(X_train, Y_train)\n",
    "Y_pred = knn.predict(X_test)\n",
    "acc_knn = round(knn.score(X_train, Y_train) * 100, 2)\n",
    "knn_cost=cross_val_score(knn, X_train, Y_train, scoring='neg_log_loss').mean()\n",
    "print('knn ' ,acc_knn,knn_cost)\n",
    "\n",
    "from sklearn.ensemble import RandomForestClassifier\n",
    "random_forest = RandomForestClassifier(n_estimators=100)\n",
    "random_forest.fit(X_train, Y_train)\n",
    "Y_pred = random_forest.predict(X_test)\n",
    "prob1=random_forest.predict_proba(X_test)\n",
    "random_forest.score(X_train, Y_train)\n",
    "acc_random_forest = round(random_forest.score(X_train, Y_train) * 100, 2)\n",
    "print('random foreset',acc_random_forest)\n",
    "\n",
    "# decision_tree = DecisionTreeClassifier()\n",
    "# decision_tree.fit(X_train, Y_train)\n",
    "# Y_pred = decision_tree.predict(X_test)\n",
    "# acc_decision_tree = round(decision_tree.score(X_train, Y_train) * 100, 2)\n",
    "# print( 'dicision tree',acc_decision_tree)\n",
    "\n",
    "\n",
    "\n",
    "logreg = LogisticRegression()\n",
    "logreg.fit(X_train, Y_train)\n",
    "Y_pred = logreg.predict(X_test)\n",
    "acc_log = round(logreg.score(X_train, Y_train) * 100, 2)\n",
    "lr_cost=cross_val_score(logreg, X_train, Y_train, scoring='neg_log_loss').mean()\n",
    "print('logistic ' , acc_log,lr_cost)\n",
    "\n",
    "from sklearn.neural_network import MLPClassifier\n",
    "clf = MLPClassifier(solver='lbfgs', alpha=1e-5,\n",
    "                    hidden_layer_sizes=(5, 2), random_state=1)\n",
    "clf.fit(X_train, Y_train) \n",
    "Y_pred=clf.predict(X_test)\n",
    "acc_clf = round(clf.score(X_train, Y_train) * 100, 2)\n",
    "clf_cost=cross_val_score(clf, X_train, Y_train, scoring='neg_log_loss').mean()\n",
    "print('neural net ',acc_clf,clf_cost)\n",
    "\n",
    "\n"
   ]
  },
  {
   "cell_type": "code",
   "execution_count": 12,
   "metadata": {},
   "outputs": [],
   "source": [
    "di={1: 'Closed with explanation',\n",
    " 2: 'Closed with non-monetary relief',\n",
    " 3: 'Closed',\n",
    " 4: 'Closed with monetary relief',\n",
    " 5: 'Untimely response'}"
   ]
  },
  {
   "cell_type": "code",
   "execution_count": 11,
   "metadata": {},
   "outputs": [
    {
     "name": "stdout",
     "output_type": "stream",
     "text": [
      "(43266, 4) (18543, 4) knn \n"
     ]
    }
   ],
   "source": [
    "lead_df=pd.read_csv('Test1_replace_reason.csv',index_col='Complaint-ID')\n",
    "print(X.shape,lead_df.shape, 'knn ')\n",
    "# lead_df.head()"
   ]
  },
  {
   "cell_type": "code",
   "execution_count": 39,
   "metadata": {},
   "outputs": [
    {
     "data": {
      "text/html": [
       "<div>\n",
       "<style scoped>\n",
       "    .dataframe tbody tr th:only-of-type {\n",
       "        vertical-align: middle;\n",
       "    }\n",
       "\n",
       "    .dataframe tbody tr th {\n",
       "        vertical-align: top;\n",
       "    }\n",
       "\n",
       "    .dataframe thead th {\n",
       "        text-align: right;\n",
       "    }\n",
       "</style>\n",
       "<table border=\"1\" class=\"dataframe\">\n",
       "  <thead>\n",
       "    <tr style=\"text-align: right;\">\n",
       "      <th></th>\n",
       "      <th>Transaction-Type</th>\n",
       "      <th>Complaint-reason</th>\n",
       "      <th>Company-response</th>\n",
       "      <th>Consumer-disputes</th>\n",
       "      <th>Complaint-Status</th>\n",
       "    </tr>\n",
       "    <tr>\n",
       "      <th>Complaint-ID</th>\n",
       "      <th></th>\n",
       "      <th></th>\n",
       "      <th></th>\n",
       "      <th></th>\n",
       "      <th></th>\n",
       "    </tr>\n",
       "  </thead>\n",
       "  <tbody>\n",
       "    <tr>\n",
       "      <th>Te-1</th>\n",
       "      <td>1</td>\n",
       "      <td>1</td>\n",
       "      <td>1</td>\n",
       "      <td>0.0</td>\n",
       "      <td>Closed with explanation</td>\n",
       "    </tr>\n",
       "    <tr>\n",
       "      <th>Te-2</th>\n",
       "      <td>2</td>\n",
       "      <td>2</td>\n",
       "      <td>2</td>\n",
       "      <td>0.0</td>\n",
       "      <td>Closed with explanation</td>\n",
       "    </tr>\n",
       "    <tr>\n",
       "      <th>Te-3</th>\n",
       "      <td>3</td>\n",
       "      <td>3</td>\n",
       "      <td>3</td>\n",
       "      <td>0.0</td>\n",
       "      <td>Closed with explanation</td>\n",
       "    </tr>\n",
       "    <tr>\n",
       "      <th>Te-4</th>\n",
       "      <td>4</td>\n",
       "      <td>4</td>\n",
       "      <td>3</td>\n",
       "      <td>0.0</td>\n",
       "      <td>Closed with explanation</td>\n",
       "    </tr>\n",
       "    <tr>\n",
       "      <th>Te-5</th>\n",
       "      <td>3</td>\n",
       "      <td>3</td>\n",
       "      <td>1</td>\n",
       "      <td>0.0</td>\n",
       "      <td>Closed with explanation</td>\n",
       "    </tr>\n",
       "  </tbody>\n",
       "</table>\n",
       "</div>"
      ],
      "text/plain": [
       "              Transaction-Type  Complaint-reason  Company-response  \\\n",
       "Complaint-ID                                                         \n",
       "Te-1                         1                 1                 1   \n",
       "Te-2                         2                 2                 2   \n",
       "Te-3                         3                 3                 3   \n",
       "Te-4                         4                 4                 3   \n",
       "Te-5                         3                 3                 1   \n",
       "\n",
       "              Consumer-disputes         Complaint-Status  \n",
       "Complaint-ID                                              \n",
       "Te-1                        0.0  Closed with explanation  \n",
       "Te-2                        0.0  Closed with explanation  \n",
       "Te-3                        0.0  Closed with explanation  \n",
       "Te-4                        0.0  Closed with explanation  \n",
       "Te-5                        0.0  Closed with explanation  "
      ]
     },
     "execution_count": 39,
     "metadata": {},
     "output_type": "execute_result"
    }
   ],
   "source": [
    "lead_pred=knn.predict(lead_df)\n",
    "lead_df['Complaint-Status']=lead_pred\n",
    "# result=lead_df['predicted']\n",
    "lead_df['Complaint-Status']=lead_df['Complaint-Status'].map(di)\n",
    "result=lead_df['Complaint-Status']\n",
    "# result.to_csv('submission_1.csv',header=True)\n",
    "result.head()\n",
    "# lead_df.head()"
   ]
  },
  {
   "cell_type": "code",
   "execution_count": 13,
   "metadata": {},
   "outputs": [
    {
     "data": {
      "text/plain": [
       "Complaint-ID\n",
       "Te-1    Closed with explanation\n",
       "Te-2    Closed with explanation\n",
       "Te-3    Closed with explanation\n",
       "Te-4    Closed with explanation\n",
       "Te-5    Closed with explanation\n",
       "Name: Complaint-Status, dtype: object"
      ]
     },
     "execution_count": 13,
     "metadata": {},
     "output_type": "execute_result"
    }
   ],
   "source": [
    "lead_pred=logreg.predict(lead_df)\n",
    "lead_df['Complaint-Status']=lead_pred\n",
    "lead_df['Complaint-Status']=lead_df['Complaint-Status'].map(di)\n",
    "result=lead_df['Complaint-Status']\n",
    "# result.head()\n",
    "result.to_csv('submission_2.csv',header=True)\n",
    "result.head()"
   ]
  },
  {
   "cell_type": "code",
   "execution_count": null,
   "metadata": {},
   "outputs": [],
   "source": []
  }
 ],
 "metadata": {
  "kernelspec": {
   "display_name": "Python 3",
   "language": "python",
   "name": "python3"
  },
  "language_info": {
   "codemirror_mode": {
    "name": "ipython",
    "version": 3
   },
   "file_extension": ".py",
   "mimetype": "text/x-python",
   "name": "python",
   "nbconvert_exporter": "python",
   "pygments_lexer": "ipython3",
   "version": "3.6.7"
  }
 },
 "nbformat": 4,
 "nbformat_minor": 2
}
